{
 "cells": [
  {
   "cell_type": "code",
   "execution_count": 1,
   "id": "6c0330fc",
   "metadata": {},
   "outputs": [],
   "source": [
    "from pyspark.sql import SparkSession\n",
    "from pyspark.sql.functions import col, avg, last\n",
    "from pyspark.sql.window import Window\n",
    "import matplotlib.pyplot as plt\n"
   ]
  },
  {
   "cell_type": "code",
   "execution_count": 2,
   "id": "509b7339",
   "metadata": {},
   "outputs": [
    {
     "name": "stdout",
     "output_type": "stream",
     "text": [
      "+--------------------+-------------+----------------+--------------------+--------------------+-------+-------------+--------------+------------+\n",
      "|                name|main_category|    sub_category|               image|                link|ratings|no_of_ratings|discount_price|actual_price|\n",
      "+--------------------+-------------+----------------+--------------------+--------------------+-------+-------------+--------------+------------+\n",
      "|Lloyd 1.5 Ton 3 S...|   appliances|Air Conditioners|https://m.media-a...|https://www.amazo...|    4.2|        2,255|        32,999|      58,990|\n",
      "|LG 1.5 Ton 5 Star...|   appliances|Air Conditioners|https://m.media-a...|https://www.amazo...|    4.2|        2,948|        46,490|      75,990|\n",
      "|LG 1 Ton 4 Star A...|   appliances|Air Conditioners|https://m.media-a...|https://www.amazo...|    4.2|        1,206|        34,490|      61,990|\n",
      "|LG 1.5 Ton 3 Star...|   appliances|Air Conditioners|https://m.media-a...|https://www.amazo...|      4|           69|        37,990|      68,990|\n",
      "|Carrier 1.5 Ton 3...|   appliances|Air Conditioners|https://m.media-a...|https://www.amazo...|    4.1|          630|        34,490|      67,790|\n",
      "|Voltas 1.4 Ton 3 ...|   appliances|Air Conditioners|https://m.media-a...|https://www.amazo...|      4|        1,666|        31,990|      70,990|\n",
      "|Lloyd 1.0 Ton 3 S...|   appliances|Air Conditioners|https://m.media-a...|https://www.amazo...|    4.2|        1,097|        29,999|      49,990|\n",
      "|Lloyd 1.5 Ton 5 S...|   appliances|Air Conditioners|https://m.media-a...|https://www.amazo...|    4.3|        1,494|        39,990|      67,990|\n",
      "|Carrier 1 Ton 3 S...|   appliances|Air Conditioners|https://m.media-a...|https://www.amazo...|    4.1|          674|        30,990|      58,190|\n",
      "|Voltas 1.5 Ton, 5...|   appliances|Air Conditioners|https://m.media-a...|https://www.amazo...|      4|          801|        37,999|      73,990|\n",
      "|Daikin 1 Ton 3 St...|   appliances|Air Conditioners|https://m.media-a...|https://www.amazo...|    4.2|          558|        32,990|      48,200|\n",
      "|Daikin 1.5 Ton 5 ...|   appliances|Air Conditioners|https://m.media-a...|https://www.amazo...|    4.1|          730|        44,990|      67,200|\n",
      "|Panasonic 1.5 Ton...|   appliances|Air Conditioners|https://m.media-a...|https://www.amazo...|    4.3|        5,073|        45,990|      63,400|\n",
      "|Carrier 1.5 Ton 5...|   appliances|Air Conditioners|https://m.media-a...|https://www.amazo...|      4|          568|        41,999|      78,490|\n",
      "|Whirlpool 1.5 Ton...|   appliances|Air Conditioners|https://m.media-a...|https://www.amazo...|    3.9|        3,670|        31,990|      62,000|\n",
      "|Samsung 1.5 Ton 3...|   appliances|Air Conditioners|https://m.media-a...|https://www.amazo...|    3.8|          312|        35,499|      60,990|\n",
      "|Lloyd 1.0 Ton 5 S...|   appliances|Air Conditioners|https://m.media-a...|https://www.amazo...|    4.1|           88|        34,000|      57,990|\n",
      "|Godrej 1.5 Ton 5 ...|   appliances|Air Conditioners|https://m.media-a...|https://www.amazo...|    4.1|          432|        37,490|      54,900|\n",
      "|Godrej 1 Ton 3 St...|   appliances|Air Conditioners|https://m.media-a...|https://www.amazo...|    3.9|          268|        29,490|      42,900|\n",
      "|Daikin 1.5 Ton 3 ...|   appliances|Air Conditioners|https://m.media-a...|https://www.amazo...|    3.5|            2|        39,499|      58,400|\n",
      "+--------------------+-------------+----------------+--------------------+--------------------+-------+-------------+--------------+------------+\n",
      "only showing top 20 rows\n",
      "\n",
      "+--------------------+-------------+----------------+--------------------+--------------------+-------+-------------+--------------+------------+\n",
      "|                name|main_category|    sub_category|               image|                link|ratings|no_of_ratings|discount_price|actual_price|\n",
      "+--------------------+-------------+----------------+--------------------+--------------------+-------+-------------+--------------+------------+\n",
      "|Lloyd 1.5 Ton 3 S...|   appliances|Air Conditioners|https://m.media-a...|https://www.amazo...|    4.2|        2,255|        32,999|      58,990|\n",
      "|LG 1.5 Ton 5 Star...|   appliances|Air Conditioners|https://m.media-a...|https://www.amazo...|    4.2|        2,948|        46,490|      75,990|\n",
      "|LG 1 Ton 4 Star A...|   appliances|Air Conditioners|https://m.media-a...|https://www.amazo...|    4.2|        1,206|        34,490|      61,990|\n",
      "|LG 1.5 Ton 3 Star...|   appliances|Air Conditioners|https://m.media-a...|https://www.amazo...|      4|           69|        37,990|      68,990|\n",
      "|Carrier 1.5 Ton 3...|   appliances|Air Conditioners|https://m.media-a...|https://www.amazo...|    4.1|          630|        34,490|      67,790|\n",
      "|Voltas 1.4 Ton 3 ...|   appliances|Air Conditioners|https://m.media-a...|https://www.amazo...|      4|        1,666|        31,990|      70,990|\n",
      "|Lloyd 1.0 Ton 3 S...|   appliances|Air Conditioners|https://m.media-a...|https://www.amazo...|    4.2|        1,097|        29,999|      49,990|\n",
      "|Lloyd 1.5 Ton 5 S...|   appliances|Air Conditioners|https://m.media-a...|https://www.amazo...|    4.3|        1,494|        39,990|      67,990|\n",
      "|Carrier 1 Ton 3 S...|   appliances|Air Conditioners|https://m.media-a...|https://www.amazo...|    4.1|          674|        30,990|      58,190|\n",
      "|Voltas 1.5 Ton, 5...|   appliances|Air Conditioners|https://m.media-a...|https://www.amazo...|      4|          801|        37,999|      73,990|\n",
      "|Daikin 1 Ton 3 St...|   appliances|Air Conditioners|https://m.media-a...|https://www.amazo...|    4.2|          558|        32,990|      48,200|\n",
      "|Daikin 1.5 Ton 5 ...|   appliances|Air Conditioners|https://m.media-a...|https://www.amazo...|    4.1|          730|        44,990|      67,200|\n",
      "|Panasonic 1.5 Ton...|   appliances|Air Conditioners|https://m.media-a...|https://www.amazo...|    4.3|        5,073|        45,990|      63,400|\n",
      "|Carrier 1.5 Ton 5...|   appliances|Air Conditioners|https://m.media-a...|https://www.amazo...|      4|          568|        41,999|      78,490|\n",
      "|Whirlpool 1.5 Ton...|   appliances|Air Conditioners|https://m.media-a...|https://www.amazo...|    3.9|        3,670|        31,990|      62,000|\n",
      "|Samsung 1.5 Ton 3...|   appliances|Air Conditioners|https://m.media-a...|https://www.amazo...|    3.8|          312|        35,499|      60,990|\n",
      "|Lloyd 1.0 Ton 5 S...|   appliances|Air Conditioners|https://m.media-a...|https://www.amazo...|    4.1|           88|        34,000|      57,990|\n",
      "|Godrej 1.5 Ton 5 ...|   appliances|Air Conditioners|https://m.media-a...|https://www.amazo...|    4.1|          432|        37,490|      54,900|\n",
      "|Godrej 1 Ton 3 St...|   appliances|Air Conditioners|https://m.media-a...|https://www.amazo...|    3.9|          268|        29,490|      42,900|\n",
      "|Daikin 1.5 Ton 3 ...|   appliances|Air Conditioners|https://m.media-a...|https://www.amazo...|    3.5|            2|        39,499|      58,400|\n",
      "+--------------------+-------------+----------------+--------------------+--------------------+-------+-------------+--------------+------------+\n",
      "only showing top 20 rows\n",
      "\n"
     ]
    }
   ],
   "source": [
    "# Set up Spark session\n",
    "spark = SparkSession.builder.appName(\"AmazonProductAnalysis\").getOrCreate()\n",
    "\n",
    "# Read TikTok dataset from HDFS\n",
    "hdfs_path = \"hdfs://172.17.15.253:9000/Amazon-Products.csv\"\n",
    "df = spark.read.csv(hdfs_path, header=True, inferSchema=True)\n",
    "\n",
    "# Show the first few rows of the DataFrame\n",
    "df.show()\n",
    "\n"
   ]
  },
  {
   "cell_type": "code",
   "execution_count": 3,
   "id": "c4fbb7b0",
   "metadata": {},
   "outputs": [
    {
     "data": {
      "text/plain": [
       "551585"
      ]
     },
     "execution_count": 3,
     "metadata": {},
     "output_type": "execute_result"
    },
    {
     "data": {
      "text/plain": [
       "551585"
      ]
     },
     "execution_count": 3,
     "metadata": {},
     "output_type": "execute_result"
    }
   ],
   "source": [
    "df.count()"
   ]
  },
  {
   "cell_type": "code",
   "execution_count": 4,
   "id": "32cc11aa",
   "metadata": {},
   "outputs": [],
   "source": [
    "window_spec = Window().orderBy(\"name\").rowsBetween(Window.unboundedPreceding, 0)"
   ]
  },
  {
   "cell_type": "code",
   "execution_count": 5,
   "id": "cb4aeb7a",
   "metadata": {},
   "outputs": [],
   "source": [
    "##Filling NULL values using LAST method(similar to ffill)\n",
    "\n",
    "for column in df.columns:\n",
    "    df = df.withColumn(column, last(col(column), True).over(window_spec))"
   ]
  },
  {
   "cell_type": "code",
   "execution_count": 6,
   "id": "efa58e36",
   "metadata": {},
   "outputs": [],
   "source": [
    "# Remove Rupees symbol from currency columns\n",
    "currency_columns = [\"discount_price\", \"actual_price\"]\n",
    "\n",
    "for column in currency_columns:\n",
    "    df = df.withColumn(column, col(column).cast(\"string\").cast(\"double\"))"
   ]
  },
  {
   "cell_type": "code",
   "execution_count": 7,
   "id": "1f914ac5",
   "metadata": {},
   "outputs": [
    {
     "name": "stdout",
     "output_type": "stream",
     "text": [
      "+--------------------+--------------------+--------------------+--------------------+--------------------+--------------------+--------------------+--------------+------------+\n",
      "|                name|       main_category|        sub_category|               image|                link|             ratings|       no_of_ratings|discount_price|actual_price|\n",
      "+--------------------+--------------------+--------------------+--------------------+--------------------+--------------------+--------------------+--------------+------------+\n",
      "|      \"\"\" SF-400A\"\" |10kg x 1gm kitche...|          appliances|      All Appliances|https://m.media-a...|https://www.amazo...|                NULL|          NULL|       415.0|\n",
      "|      \"\"\" SF-400A\"\" |10kg x 1gm kitche...|          appliances|Kitchen & Home Ap...|https://m.media-a...|https://www.amazo...|                NULL|          NULL|       415.0|\n",
      "|\"\"\"7\"\" Embroidery...|       kids' fashion|        Baby Fashion|https://m.media-a...|https://www.amazo...|https://www.amazo...|                NULL|         379.0|       599.0|\n",
      "|\"\"\"A\"\" PLUS Hygie...| White and Green)...|          appliances|      All Appliances|https://m.media-a...|https://www.amazo...|                 4.1|         911.0|        NULL|\n",
      "|\"\"\"A\"\" PLUS Hygie...| White and Green)...|          appliances|Heating & Cooling...|https://m.media-a...|https://www.amazo...|                 4.1|         911.0|        NULL|\n",
      "|\"\"\"A\"\" PLUS Hygie...| White and Green)...|          appliances|Kitchen & Home Ap...|https://m.media-a...|https://www.amazo...|                 4.1|         911.0|        NULL|\n",
      "|\"\"\"DN Enterprises...|         accessories| Handbags & Clutches|https://m.media-a...|https://www.amazo...|                   5|                   1|         310.0|       699.0|\n",
      "|\"\"\"DN Enterprises...|         accessories| Handbags & Clutches|https://m.media-a...|https://www.amazo...|                 3.4|                  24|         349.0|        NULL|\n",
      "|\"\"\"GOMUKH” Gangaj...|     beauty & health|  Household Supplies|https://m.media-a...|https://www.amazo...|                 4.8|                   5|         329.0|       399.0|\n",
      "|\"\"\"Guruji Swaroop...|         accessories|           Jewellery|https://m.media-a...|https://www.amazo...|                 4.1|                   5|         239.0|       399.0|\n",
      "|\"\"\"Handicraft-Pal...|    women's clothing|Lingerie & Nightwear|https://m.media-a...|https://www.amazo...|                   4|                   3|         749.0|       999.0|\n",
      "|\"\"\"Honeywell Air ...|          Pollutants|               PM2.5|                Dust|                ...\"|          appliances|Heating & Cooling...|          NULL|        NULL|\n",
      "|\"\"\"Honeywell Air ...|          Pollutants|               PM2.5|                Dust|                ...\"|          appliances|Heating & Cooling...|          NULL|        NULL|\n",
      "|\"\"\"INTERN SOPRANO...|         accessories|      Bags & Luggage|https://m.media-a...|https://www.amazo...|                 3.9|                 523|          NULL|        NULL|\n",
      "|\"\"\"INTERN SOPRANO...|         accessories| Handbags & Clutches|https://m.media-a...|https://www.amazo...|                 3.9|                 523|          NULL|        NULL|\n",
      "|\"\"\"Jai Guru Ji |G...|         accessories|           Jewellery|https://m.media-a...|https://www.amazo...|                 3.9|                 523|         239.0|       299.0|\n",
      "|\"\"\"Jean Cafe\"\" Me...|    JCDT-GR2-P (Grey|           Size-32)\"|      men's clothing|               Jeans|https://m.media-a...|https://www.amazo...|         239.0|       299.0|\n",
      "|\"\"\"Ji\"\" Japsin In...| Range 150-0-150 ...|        Wall Mounted|    1/4\"\" SS Nozzel\"| industrial supplies|Test, Measure & I...|https://m.media-a...|          NULL|         4.5|\n",
      "|\"\"\"Ji\"\" Japsin In...|            4\"\" Dial| Range 0 to 200 D...| Direct Mounting ...|         Stem Le...\"| industrial supplies|    Lab & Scientific|          NULL|        NULL|\n",
      "|\"\"\"Ji\"\" Japsin In...|            4\"\" Dial|  Range 0 to 120 Deg| 6\"\" long Stem X ...|  Horizontal Mou...\"| industrial supplies|    Lab & Scientific|          NULL|        NULL|\n",
      "+--------------------+--------------------+--------------------+--------------------+--------------------+--------------------+--------------------+--------------+------------+\n",
      "only showing top 20 rows\n",
      "\n",
      "+--------------------+--------------------+--------------------+--------------------+--------------------+--------------------+--------------------+--------------+------------+\n",
      "|                name|       main_category|        sub_category|               image|                link|             ratings|       no_of_ratings|discount_price|actual_price|\n",
      "+--------------------+--------------------+--------------------+--------------------+--------------------+--------------------+--------------------+--------------+------------+\n",
      "|      \"\"\" SF-400A\"\" |10kg x 1gm kitche...|          appliances|      All Appliances|https://m.media-a...|https://www.amazo...|                NULL|          NULL|       415.0|\n",
      "|      \"\"\" SF-400A\"\" |10kg x 1gm kitche...|          appliances|Kitchen & Home Ap...|https://m.media-a...|https://www.amazo...|                NULL|          NULL|       415.0|\n",
      "|\"\"\"7\"\" Embroidery...|       kids' fashion|        Baby Fashion|https://m.media-a...|https://www.amazo...|https://www.amazo...|                NULL|         379.0|       599.0|\n",
      "|\"\"\"A\"\" PLUS Hygie...| White and Green)...|          appliances|      All Appliances|https://m.media-a...|https://www.amazo...|                 4.1|         911.0|        NULL|\n",
      "|\"\"\"A\"\" PLUS Hygie...| White and Green)...|          appliances|Heating & Cooling...|https://m.media-a...|https://www.amazo...|                 4.1|         911.0|        NULL|\n",
      "|\"\"\"A\"\" PLUS Hygie...| White and Green)...|          appliances|Kitchen & Home Ap...|https://m.media-a...|https://www.amazo...|                 4.1|         911.0|        NULL|\n",
      "|\"\"\"DN Enterprises...|         accessories| Handbags & Clutches|https://m.media-a...|https://www.amazo...|                   5|                   1|         310.0|       699.0|\n",
      "|\"\"\"DN Enterprises...|         accessories| Handbags & Clutches|https://m.media-a...|https://www.amazo...|                 3.4|                  24|         349.0|        NULL|\n",
      "|\"\"\"GOMUKH” Gangaj...|     beauty & health|  Household Supplies|https://m.media-a...|https://www.amazo...|                 4.8|                   5|         329.0|       399.0|\n",
      "|\"\"\"Guruji Swaroop...|         accessories|           Jewellery|https://m.media-a...|https://www.amazo...|                 4.1|                   5|         239.0|       399.0|\n",
      "|\"\"\"Handicraft-Pal...|    women's clothing|Lingerie & Nightwear|https://m.media-a...|https://www.amazo...|                   4|                   3|         749.0|       999.0|\n",
      "|\"\"\"Honeywell Air ...|          Pollutants|               PM2.5|                Dust|                ...\"|          appliances|Heating & Cooling...|          NULL|        NULL|\n",
      "|\"\"\"Honeywell Air ...|          Pollutants|               PM2.5|                Dust|                ...\"|          appliances|Heating & Cooling...|          NULL|        NULL|\n",
      "|\"\"\"INTERN SOPRANO...|         accessories|      Bags & Luggage|https://m.media-a...|https://www.amazo...|                 3.9|                 523|          NULL|        NULL|\n",
      "|\"\"\"INTERN SOPRANO...|         accessories| Handbags & Clutches|https://m.media-a...|https://www.amazo...|                 3.9|                 523|          NULL|        NULL|\n",
      "|\"\"\"Jai Guru Ji |G...|         accessories|           Jewellery|https://m.media-a...|https://www.amazo...|                 3.9|                 523|         239.0|       299.0|\n",
      "|\"\"\"Jean Cafe\"\" Me...|    JCDT-GR2-P (Grey|           Size-32)\"|      men's clothing|               Jeans|https://m.media-a...|https://www.amazo...|         239.0|       299.0|\n",
      "|\"\"\"Ji\"\" Japsin In...| Range 150-0-150 ...|        Wall Mounted|    1/4\"\" SS Nozzel\"| industrial supplies|Test, Measure & I...|https://m.media-a...|          NULL|         4.5|\n",
      "|\"\"\"Ji\"\" Japsin In...|            4\"\" Dial| Range 0 to 200 D...| Direct Mounting ...|         Stem Le...\"| industrial supplies|    Lab & Scientific|          NULL|        NULL|\n",
      "|\"\"\"Ji\"\" Japsin In...|            4\"\" Dial|  Range 0 to 120 Deg| 6\"\" long Stem X ...|  Horizontal Mou...\"| industrial supplies|    Lab & Scientific|          NULL|        NULL|\n",
      "+--------------------+--------------------+--------------------+--------------------+--------------------+--------------------+--------------------+--------------+------------+\n",
      "only showing top 20 rows\n",
      "\n"
     ]
    }
   ],
   "source": [
    "df.show()"
   ]
  },
  {
   "cell_type": "code",
   "execution_count": 8,
   "id": "9fe56c90",
   "metadata": {},
   "outputs": [
    {
     "name": "stdout",
     "output_type": "stream",
     "text": [
      "root\n",
      " |-- name: string (nullable = true)\n",
      " |-- main_category: string (nullable = true)\n",
      " |-- sub_category: string (nullable = true)\n",
      " |-- image: string (nullable = true)\n",
      " |-- link: string (nullable = true)\n",
      " |-- ratings: string (nullable = true)\n",
      " |-- no_of_ratings: string (nullable = true)\n",
      " |-- discount_price: double (nullable = true)\n",
      " |-- actual_price: double (nullable = true)\n",
      "\n",
      "root\n",
      " |-- name: string (nullable = true)\n",
      " |-- main_category: string (nullable = true)\n",
      " |-- sub_category: string (nullable = true)\n",
      " |-- image: string (nullable = true)\n",
      " |-- link: string (nullable = true)\n",
      " |-- ratings: string (nullable = true)\n",
      " |-- no_of_ratings: string (nullable = true)\n",
      " |-- discount_price: double (nullable = true)\n",
      " |-- actual_price: double (nullable = true)\n",
      "\n"
     ]
    }
   ],
   "source": [
    "df.printSchema()"
   ]
  },
  {
   "cell_type": "code",
   "execution_count": 9,
   "id": "e2c4ff08",
   "metadata": {},
   "outputs": [],
   "source": [
    "columns_to_fill = [\"ratings\", \"no_of_ratings\"]\n",
    "for column in columns_to_fill:\n",
    "    df = df.withColumn(column, last(column, ignorenulls=True).over(Window.orderBy(\"name\")))"
   ]
  },
  {
   "cell_type": "code",
   "execution_count": 10,
   "id": "06b0e5cf",
   "metadata": {},
   "outputs": [],
   "source": [
    "df_with_null = df.withColumn(\"has_null\",col(\"ratings\").isNull() | col(\"no_of_ratings\").isNull())\n",
    "result_df_with_null = df_with_null.filter(col(\"has_null\"))"
   ]
  },
  {
   "cell_type": "code",
   "execution_count": 11,
   "id": "ad7be2a4",
   "metadata": {},
   "outputs": [
    {
     "name": "stdout",
     "output_type": "stream",
     "text": [
      "+--------------------+--------------------+------------+--------------------+--------------------+--------------------+-------------+--------------+------------+--------+\n",
      "|                name|       main_category|sub_category|               image|                link|             ratings|no_of_ratings|discount_price|actual_price|has_null|\n",
      "+--------------------+--------------------+------------+--------------------+--------------------+--------------------+-------------+--------------+------------+--------+\n",
      "|      \"\"\" SF-400A\"\" |10kg x 1gm kitche...|  appliances|      All Appliances|https://m.media-a...|https://www.amazo...|         NULL|          NULL|       415.0|    true|\n",
      "|      \"\"\" SF-400A\"\" |10kg x 1gm kitche...|  appliances|Kitchen & Home Ap...|https://m.media-a...|https://www.amazo...|         NULL|          NULL|       415.0|    true|\n",
      "|\"\"\"7\"\" Embroidery...|       kids' fashion|Baby Fashion|https://m.media-a...|https://www.amazo...|https://www.amazo...|         NULL|         379.0|       599.0|    true|\n",
      "+--------------------+--------------------+------------+--------------------+--------------------+--------------------+-------------+--------------+------------+--------+\n",
      "\n",
      "+--------------------+--------------------+------------+--------------------+--------------------+--------------------+-------------+--------------+------------+--------+\n",
      "|                name|       main_category|sub_category|               image|                link|             ratings|no_of_ratings|discount_price|actual_price|has_null|\n",
      "+--------------------+--------------------+------------+--------------------+--------------------+--------------------+-------------+--------------+------------+--------+\n",
      "|      \"\"\" SF-400A\"\" |10kg x 1gm kitche...|  appliances|      All Appliances|https://m.media-a...|https://www.amazo...|         NULL|          NULL|       415.0|    true|\n",
      "|      \"\"\" SF-400A\"\" |10kg x 1gm kitche...|  appliances|Kitchen & Home Ap...|https://m.media-a...|https://www.amazo...|         NULL|          NULL|       415.0|    true|\n",
      "|\"\"\"7\"\" Embroidery...|       kids' fashion|Baby Fashion|https://m.media-a...|https://www.amazo...|https://www.amazo...|         NULL|         379.0|       599.0|    true|\n",
      "+--------------------+--------------------+------------+--------------------+--------------------+--------------------+-------------+--------------+------------+--------+\n",
      "\n"
     ]
    }
   ],
   "source": [
    "result_df_with_null.show()"
   ]
  },
  {
   "cell_type": "code",
   "execution_count": 12,
   "id": "9a5b3aa7",
   "metadata": {},
   "outputs": [],
   "source": [
    "from pyspark.sql.types import DoubleType\n",
    "# Convert columns to double\n",
    "df = df.withColumn(\"ratings\", df[\"ratings\"].cast(DoubleType()))\n",
    "df = df.withColumn(\"no_of_ratings\", df[\"no_of_ratings\"].cast(DoubleType()))"
   ]
  },
  {
   "cell_type": "code",
   "execution_count": 13,
   "id": "f0f6116f",
   "metadata": {},
   "outputs": [
    {
     "name": "stdout",
     "output_type": "stream",
     "text": [
      "+--------------------+--------------------+------------+--------------------+--------------------+-------+-------------+--------------+------------+\n",
      "|                name|       main_category|sub_category|               image|                link|ratings|no_of_ratings|discount_price|actual_price|\n",
      "+--------------------+--------------------+------------+--------------------+--------------------+-------+-------------+--------------+------------+\n",
      "|      \"\"\" SF-400A\"\" |10kg x 1gm kitche...|  appliances|      All Appliances|https://m.media-a...|   NULL|         NULL|          NULL|       415.0|\n",
      "|      \"\"\" SF-400A\"\" |10kg x 1gm kitche...|  appliances|Kitchen & Home Ap...|https://m.media-a...|   NULL|         NULL|          NULL|       415.0|\n",
      "|\"\"\"7\"\" Embroidery...|       kids' fashion|Baby Fashion|https://m.media-a...|https://www.amazo...|   NULL|         NULL|         379.0|       599.0|\n",
      "+--------------------+--------------------+------------+--------------------+--------------------+-------+-------------+--------------+------------+\n",
      "only showing top 3 rows\n",
      "\n",
      "+--------------------+--------------------+------------+--------------------+--------------------+-------+-------------+--------------+------------+\n",
      "|                name|       main_category|sub_category|               image|                link|ratings|no_of_ratings|discount_price|actual_price|\n",
      "+--------------------+--------------------+------------+--------------------+--------------------+-------+-------------+--------------+------------+\n",
      "|      \"\"\" SF-400A\"\" |10kg x 1gm kitche...|  appliances|      All Appliances|https://m.media-a...|   NULL|         NULL|          NULL|       415.0|\n",
      "|      \"\"\" SF-400A\"\" |10kg x 1gm kitche...|  appliances|Kitchen & Home Ap...|https://m.media-a...|   NULL|         NULL|          NULL|       415.0|\n",
      "|\"\"\"7\"\" Embroidery...|       kids' fashion|Baby Fashion|https://m.media-a...|https://www.amazo...|   NULL|         NULL|         379.0|       599.0|\n",
      "+--------------------+--------------------+------------+--------------------+--------------------+-------+-------------+--------------+------------+\n",
      "only showing top 3 rows\n",
      "\n"
     ]
    }
   ],
   "source": [
    "df.show(3)"
   ]
  },
  {
   "cell_type": "code",
   "execution_count": 14,
   "id": "b254cb14",
   "metadata": {},
   "outputs": [],
   "source": [
    "window_spec = Window().orderBy(\"name\").rowsBetween(Window.unboundedPreceding, 0)\n",
    "for column in df.columns:\n",
    "    df = df.withColumn(column, last(col(column), True).over(window_spec))"
   ]
  },
  {
   "cell_type": "code",
   "execution_count": 15,
   "id": "437b51aa",
   "metadata": {},
   "outputs": [
    {
     "name": "stdout",
     "output_type": "stream",
     "text": [
      "Columns with null values: ['ratings', 'no_of_ratings', 'discount_price']\n",
      "Columns with null values: ['ratings', 'no_of_ratings', 'discount_price']\n"
     ]
    }
   ],
   "source": [
    "columns_with_null = [column for column in df.columns if df.filter(col(column).isNull()).count() > 0]\n",
    "\n",
    "# Print the column names with null values\n",
    "print(\"Columns with null values:\", columns_with_null)"
   ]
  },
  {
   "cell_type": "code",
   "execution_count": 16,
   "id": "cbb92981",
   "metadata": {},
   "outputs": [],
   "source": [
    "from pyspark.sql.functions import col, when\n",
    "\n",
    "# Iterate over columns and fill null values using the last non-null value\n",
    "for column in ['ratings', 'no_of_ratings', 'discount_price']:\n",
    "    # Find the last non-null value in the column\n",
    "    last_value = df.filter(col(column).isNotNull()).orderBy(\"name\").select(column).limit(1).collect()[0][0]\n",
    "    \n",
    "    # Fill null values with the last non-null value\n",
    "    df = df.withColumn(column, when(col(column).isNotNull(), col(column)).otherwise(last_value))\n"
   ]
  },
  {
   "cell_type": "code",
   "execution_count": 17,
   "id": "ceb8e3a2",
   "metadata": {},
   "outputs": [
    {
     "name": "stdout",
     "output_type": "stream",
     "text": [
      "Columns with null values: []\n",
      "Columns with null values: []\n"
     ]
    }
   ],
   "source": [
    "columns_with_null = [column for column in df.columns if df.filter(col(column).isNull()).count() > 0]\n",
    "\n",
    "# Print the column names with null values\n",
    "print(\"Columns with null values:\", columns_with_null)"
   ]
  },
  {
   "cell_type": "code",
   "execution_count": 18,
   "id": "499cce97",
   "metadata": {},
   "outputs": [
    {
     "name": "stdout",
     "output_type": "stream",
     "text": [
      "+--------------+\n",
      "|discount_price|\n",
      "+--------------+\n",
      "|379.0         |\n",
      "|379.0         |\n",
      "|379.0         |\n",
      "|911.0         |\n",
      "|911.0         |\n",
      "|911.0         |\n",
      "|310.0         |\n",
      "|349.0         |\n",
      "|329.0         |\n",
      "|239.0         |\n",
      "|749.0         |\n",
      "|749.0         |\n",
      "|749.0         |\n",
      "|749.0         |\n",
      "|749.0         |\n",
      "|239.0         |\n",
      "|239.0         |\n",
      "|239.0         |\n",
      "|239.0         |\n",
      "|239.0         |\n",
      "+--------------+\n",
      "only showing top 20 rows\n",
      "\n",
      "+--------------+\n",
      "|discount_price|\n",
      "+--------------+\n",
      "|379.0         |\n",
      "|379.0         |\n",
      "|379.0         |\n",
      "|911.0         |\n",
      "|911.0         |\n",
      "|911.0         |\n",
      "|310.0         |\n",
      "|349.0         |\n",
      "|329.0         |\n",
      "|239.0         |\n",
      "|749.0         |\n",
      "|749.0         |\n",
      "|749.0         |\n",
      "|749.0         |\n",
      "|749.0         |\n",
      "|239.0         |\n",
      "|239.0         |\n",
      "|239.0         |\n",
      "|239.0         |\n",
      "|239.0         |\n",
      "+--------------+\n",
      "only showing top 20 rows\n",
      "\n"
     ]
    }
   ],
   "source": [
    "selected_column = \"discount_price\"\n",
    "\n",
    "# Print the selected column\n",
    "df.select(selected_column).show(truncate=False)"
   ]
  },
  {
   "cell_type": "code",
   "execution_count": 19,
   "id": "a100f7b5",
   "metadata": {},
   "outputs": [],
   "source": [
    "def plot_bar_chart(data, x_col, y_col, title, xlabel, ylabel):\n",
    "    plt.figure(figsize=(10, 6))\n",
    "    data.toPandas().plot(kind='bar', x=x_col, y=y_col, rot=0)\n",
    "    plt.title(title)\n",
    "    plt.xlabel(xlabel)\n",
    "    plt.ylabel(ylabel)\n",
    "    plt.show()"
   ]
  },
  {
   "cell_type": "code",
   "execution_count": null,
   "id": "036d4dec",
   "metadata": {},
   "outputs": [],
   "source": []
  },
  {
   "cell_type": "code",
   "execution_count": 20,
   "id": "fac50d0f",
   "metadata": {},
   "outputs": [
    {
     "data": {
      "text/plain": [
       "<Figure size 1000x600 with 0 Axes>"
      ]
     },
     "metadata": {},
     "output_type": "display_data"
    },
    {
     "data": {
      "text/plain": [
       "<Figure size 1000x600 with 0 Axes>"
      ]
     },
     "metadata": {},
     "output_type": "display_data"
    },
    {
     "data": {
      "image/png": "[encoded data removed]",
      "text/plain": [
       "<Figure size 640x480 with 1 Axes>"
      ]
     },
     "metadata": {},
     "output_type": "display_data"
    },
    {
     "data": {
      "image/png": "[encoded data removed]",
      "text/plain": [
       "<Figure size 640x480 with 1 Axes>"
      ]
     },
     "metadata": {},
     "output_type": "display_data"
    }
   ],
   "source": [
    "average_ratings_df = df.groupBy(\"sub_category\").agg({\"ratings\": \"avg\"}).withColumnRenamed(\"avg(ratings)\", \"average_ratings\")\n",
    "plot_bar_chart(\n",
    "    data=average_ratings_df,\n",
    "    x_col=\"sub_category\",\n",
    "    y_col=\"average_ratings\",\n",
    "    title=\"Average Ratings per Main Category\",\n",
    "    xlabel=\"Category\",\n",
    "    ylabel=\"Average Ratings\"\n",
    ")"
   ]
  },
  {
   "cell_type": "code",
   "execution_count": 21,
   "id": "29689ef3",
   "metadata": {},
   "outputs": [
    {
     "name": "stdout",
     "output_type": "stream",
     "text": [
      "+--------------------+\n",
      "|        sub_category|\n",
      "+--------------------+\n",
      "|          appliances|\n",
      "|        Baby Fashion|\n",
      "| Handbags & Clutches|\n",
      "|  Household Supplies|\n",
      "|           Jewellery|\n",
      "|Lingerie & Nightwear|\n",
      "|               PM2.5|\n",
      "|      Bags & Luggage|\n",
      "|           Size-32)\"|\n",
      "|        Wall Mounted|\n",
      "| Range 0 to 200 D...|\n",
      "|  Range 0 to 120 Deg|\n",
      "|Test, Measure & I...|\n",
      "| SS Tube of 300 m...|\n",
      "|            4\"\" Dial|\n",
      "| Surface Mounting...|\n",
      "|Sewing & Craft Su...|\n",
      "|         Ethnic Wear|\n",
      "| Front Slit with ...|\n",
      "|            Clothing|\n",
      "+--------------------+\n",
      "only showing top 20 rows\n",
      "\n",
      "+--------------------+\n",
      "|        sub_category|\n",
      "+--------------------+\n",
      "|          appliances|\n",
      "|        Baby Fashion|\n",
      "| Handbags & Clutches|\n",
      "|  Household Supplies|\n",
      "|           Jewellery|\n",
      "|Lingerie & Nightwear|\n",
      "|               PM2.5|\n",
      "|      Bags & Luggage|\n",
      "|           Size-32)\"|\n",
      "|        Wall Mounted|\n",
      "| Range 0 to 200 D...|\n",
      "|  Range 0 to 120 Deg|\n",
      "|Test, Measure & I...|\n",
      "| SS Tube of 300 m...|\n",
      "|            4\"\" Dial|\n",
      "| Surface Mounting...|\n",
      "|Sewing & Craft Su...|\n",
      "|         Ethnic Wear|\n",
      "| Front Slit with ...|\n",
      "|            Clothing|\n",
      "+--------------------+\n",
      "only showing top 20 rows\n",
      "\n"
     ]
    }
   ],
   "source": [
    "unique_subcategories = df.select(\"sub_category\").distinct()\n",
    "\n",
    "unique_subcategories.show()"
   ]
  },
  {
   "cell_type": "code",
   "execution_count": 22,
   "id": "a4062af5",
   "metadata": {},
   "outputs": [],
   "source": [
    "average_ratings_per_subcategory = (\n",
    "    df.groupBy(\"sub_category\")\n",
    "    .agg({\"ratings\": \"avg\"})\n",
    "    .withColumnRenamed(\"avg(ratings)\", \"average_ratings\")\n",
    ")\n"
   ]
  },
  {
   "cell_type": "code",
   "execution_count": 23,
   "id": "436132e6",
   "metadata": {},
   "outputs": [
    {
     "name": "stdout",
     "output_type": "stream",
     "text": [
      "+--------------------+\n",
      "|        sub_category|\n",
      "+--------------------+\n",
      "|          appliances|\n",
      "|        Baby Fashion|\n",
      "| Handbags & Clutches|\n",
      "|  Household Supplies|\n",
      "|           Jewellery|\n",
      "|Lingerie & Nightwear|\n",
      "|               PM2.5|\n",
      "|      Bags & Luggage|\n",
      "|           Size-32)\"|\n",
      "|        Wall Mounted|\n",
      "| Range 0 to 200 D...|\n",
      "|  Range 0 to 120 Deg|\n",
      "|Test, Measure & I...|\n",
      "| SS Tube of 300 m...|\n",
      "|            4\"\" Dial|\n",
      "| Surface Mounting...|\n",
      "|Sewing & Craft Su...|\n",
      "|         Ethnic Wear|\n",
      "| Front Slit with ...|\n",
      "|            Clothing|\n",
      "+--------------------+\n",
      "only showing top 20 rows\n",
      "\n",
      "+--------------------+\n",
      "|        sub_category|\n",
      "+--------------------+\n",
      "|          appliances|\n",
      "|        Baby Fashion|\n",
      "| Handbags & Clutches|\n",
      "|  Household Supplies|\n",
      "|           Jewellery|\n",
      "|Lingerie & Nightwear|\n",
      "|               PM2.5|\n",
      "|      Bags & Luggage|\n",
      "|           Size-32)\"|\n",
      "|        Wall Mounted|\n",
      "| Range 0 to 200 D...|\n",
      "|  Range 0 to 120 Deg|\n",
      "|Test, Measure & I...|\n",
      "| SS Tube of 300 m...|\n",
      "|            4\"\" Dial|\n",
      "| Surface Mounting...|\n",
      "|Sewing & Craft Su...|\n",
      "|         Ethnic Wear|\n",
      "| Front Slit with ...|\n",
      "|            Clothing|\n",
      "+--------------------+\n",
      "only showing top 20 rows\n",
      "\n",
      "+--------------------+------------------+\n",
      "|        sub_category|   average_ratings|\n",
      "+--------------------+------------------+\n",
      "|          appliances| 4.137714285714285|\n",
      "|        Baby Fashion|3.9065573770491824|\n",
      "| Handbags & Clutches|3.9048786878373347|\n",
      "|  Household Supplies| 3.947282608695654|\n",
      "|           Jewellery|3.8206185028470228|\n",
      "|Lingerie & Nightwear|3.7647280531853324|\n",
      "|               PM2.5|               4.0|\n",
      "|      Bags & Luggage| 3.983335081829625|\n",
      "|           Size-32)\"|               3.9|\n",
      "|        Wall Mounted|               3.9|\n",
      "| Range 0 to 200 D...|               3.9|\n",
      "|  Range 0 to 120 Deg|               3.9|\n",
      "|Test, Measure & I...| 3.839580419580423|\n",
      "| SS Tube of 300 m...|               5.0|\n",
      "|            4\"\" Dial|               5.0|\n",
      "| Surface Mounting...|               5.0|\n",
      "|Sewing & Craft Su...| 4.026332537788384|\n",
      "|         Ethnic Wear| 3.721596515167403|\n",
      "| Front Slit with ...|               3.8|\n",
      "|            Clothing| 3.781945895132625|\n",
      "+--------------------+------------------+\n",
      "only showing top 20 rows\n",
      "\n",
      "+--------------------+------------------+\n",
      "|        sub_category|   average_ratings|\n",
      "+--------------------+------------------+\n",
      "|          appliances| 4.137714285714285|\n",
      "|        Baby Fashion|3.9065573770491824|\n",
      "| Handbags & Clutches|3.9048786878373347|\n",
      "|  Household Supplies| 3.947282608695654|\n",
      "|           Jewellery|3.8206185028470228|\n",
      "|Lingerie & Nightwear|3.7647280531853324|\n",
      "|               PM2.5|               4.0|\n",
      "|      Bags & Luggage| 3.983335081829625|\n",
      "|           Size-32)\"|               3.9|\n",
      "|        Wall Mounted|               3.9|\n",
      "| Range 0 to 200 D...|               3.9|\n",
      "|  Range 0 to 120 Deg|               3.9|\n",
      "|Test, Measure & I...| 3.839580419580423|\n",
      "| SS Tube of 300 m...|               5.0|\n",
      "|            4\"\" Dial|               5.0|\n",
      "| Surface Mounting...|               5.0|\n",
      "|Sewing & Craft Su...| 4.026332537788384|\n",
      "|         Ethnic Wear| 3.721596515167403|\n",
      "| Front Slit with ...|               3.8|\n",
      "|            Clothing| 3.781945895132625|\n",
      "+--------------------+------------------+\n",
      "only showing top 20 rows\n",
      "\n"
     ]
    }
   ],
   "source": [
    "# Show the results\n",
    "unique_subcategories.show()\n",
    "average_ratings_per_subcategory.show()"
   ]
  },
  {
   "cell_type": "code",
   "execution_count": null,
   "id": "2502de02",
   "metadata": {},
   "outputs": [],
   "source": []
  }
 ],
 "metadata": {
  "kernelspec": {
   "display_name": "Python 3 (ipykernel)",
   "language": "python",
   "name": "python3"
  },
  "language_info": {
   "codemirror_mode": {
    "name": "ipython",
    "version": 3
   },
   "file_extension": ".py",
   "mimetype": "text/x-python",
   "name": "python",
   "nbconvert_exporter": "python",
   "pygments_lexer": "ipython3",
   "version": "3.11.5"
  }
 },
 "nbformat": 4,
 "nbformat_minor": 5
}
